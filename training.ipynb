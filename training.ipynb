{
 "cells": [
  {
   "cell_type": "code",
   "execution_count": null,
   "metadata": {},
   "outputs": [],
   "source": [
    "from utils import LoginCredentials\n",
    "import wandb\n",
    "\n",
    "authenticator = LoginCredentials()\n",
    "\n",
    "wandb.login(key=authenticator.wandb_key)"
   ]
  },
  {
   "cell_type": "code",
   "execution_count": 1,
   "metadata": {},
   "outputs": [
    {
     "name": "stderr",
     "output_type": "stream",
     "text": [
      "Failed to detect the name of this notebook, you can set it manually with the WANDB_NOTEBOOK_NAME environment variable to enable code saving.\n",
      "\u001b[34m\u001b[1mwandb\u001b[0m: Currently logged in as: \u001b[33mfinnhenri-smidt\u001b[0m. Use \u001b[1m`wandb login --relogin`\u001b[0m to force relogin\n",
      "\u001b[34m\u001b[1mwandb\u001b[0m: \u001b[33mWARNING\u001b[0m If you're specifying your api key in code, ensure this code is not shared publicly.\n",
      "\u001b[34m\u001b[1mwandb\u001b[0m: \u001b[33mWARNING\u001b[0m Consider setting the WANDB_API_KEY environment variable, or running `wandb login` from the command line.\n",
      "\u001b[34m\u001b[1mwandb\u001b[0m: Appending key for api.wandb.ai to your netrc file: /Users/henrismidt/.netrc\n",
      "Seed set to 42\n"
     ]
    },
    {
     "name": "stdout",
     "output_type": "stream",
     "text": [
      "Create sweep with ID: dba53nlg\n",
      "Sweep URL: https://wandb.ai/finnhenri-smidt/Alzheimer-Detection/sweeps/dba53nlg\n"
     ]
    },
    {
     "name": "stderr",
     "output_type": "stream",
     "text": [
      "\u001b[34m\u001b[1mwandb\u001b[0m: Agent Starting Run: goa2q277 with config:\n",
      "\u001b[34m\u001b[1mwandb\u001b[0m: \tmodel_name: EfficientNetb0\n",
      "\u001b[34m\u001b[1mwandb\u001b[0m: \tslice_number: 65\n",
      "Failed to detect the name of this notebook, you can set it manually with the WANDB_NOTEBOOK_NAME environment variable to enable code saving.\n"
     ]
    },
    {
     "data": {
      "application/vnd.jupyter.widget-view+json": {
       "model_id": "0eb8c5889e12474192ce11589ed160fb",
       "version_major": 2,
       "version_minor": 0
      },
      "text/plain": [
       "VBox(children=(Label(value='Waiting for wandb.init()...\\r'), FloatProgress(value=0.011168671288888888, max=1.0…"
      ]
     },
     "metadata": {},
     "output_type": "display_data"
    },
    {
     "data": {
      "text/html": [
       "Tracking run with wandb version 0.17.0"
      ],
      "text/plain": [
       "<IPython.core.display.HTML object>"
      ]
     },
     "metadata": {},
     "output_type": "display_data"
    },
    {
     "data": {
      "text/html": [
       "Run data is saved locally in <code>/Users/henrismidt/Documents/Informatik/Master/Alzheimer_Detection/wandb/run-20240526_182211-goa2q277</code>"
      ],
      "text/plain": [
       "<IPython.core.display.HTML object>"
      ]
     },
     "metadata": {},
     "output_type": "display_data"
    },
    {
     "data": {
      "text/html": [
       "Syncing run <strong><a href='https://wandb.ai/finnhenri-smidt/Alzheimer-Detection/runs/goa2q277' target=\"_blank\">quiet-sweep-1</a></strong> to <a href='https://wandb.ai/finnhenri-smidt/Alzheimer-Detection' target=\"_blank\">Weights & Biases</a> (<a href='https://wandb.me/run' target=\"_blank\">docs</a>)<br/>Sweep page: <a href='https://wandb.ai/finnhenri-smidt/Alzheimer-Detection/sweeps/dba53nlg' target=\"_blank\">https://wandb.ai/finnhenri-smidt/Alzheimer-Detection/sweeps/dba53nlg</a>"
      ],
      "text/plain": [
       "<IPython.core.display.HTML object>"
      ]
     },
     "metadata": {},
     "output_type": "display_data"
    },
    {
     "data": {
      "text/html": [
       " View project at <a href='https://wandb.ai/finnhenri-smidt/Alzheimer-Detection' target=\"_blank\">https://wandb.ai/finnhenri-smidt/Alzheimer-Detection</a>"
      ],
      "text/plain": [
       "<IPython.core.display.HTML object>"
      ]
     },
     "metadata": {},
     "output_type": "display_data"
    },
    {
     "data": {
      "text/html": [
       " View sweep at <a href='https://wandb.ai/finnhenri-smidt/Alzheimer-Detection/sweeps/dba53nlg' target=\"_blank\">https://wandb.ai/finnhenri-smidt/Alzheimer-Detection/sweeps/dba53nlg</a>"
      ],
      "text/plain": [
       "<IPython.core.display.HTML object>"
      ]
     },
     "metadata": {},
     "output_type": "display_data"
    },
    {
     "data": {
      "text/html": [
       " View run at <a href='https://wandb.ai/finnhenri-smidt/Alzheimer-Detection/runs/goa2q277' target=\"_blank\">https://wandb.ai/finnhenri-smidt/Alzheimer-Detection/runs/goa2q277</a>"
      ],
      "text/plain": [
       "<IPython.core.display.HTML object>"
      ]
     },
     "metadata": {},
     "output_type": "display_data"
    },
    {
     "name": "stdout",
     "output_type": "stream",
     "text": [
      "Loaded pretrained weights for efficientnet-b0\n"
     ]
    },
    {
     "name": "stderr",
     "output_type": "stream",
     "text": [
      "GPU available: True (mps), used: True\n",
      "TPU available: False, using: 0 TPU cores\n",
      "IPU available: False, using: 0 IPUs\n",
      "HPU available: False, using: 0 HPUs\n",
      "/Users/henrismidt/anaconda3/envs/alzheimer/lib/python3.8/site-packages/lightning/pytorch/loggers/wandb.py:396: There is a wandb run already in progress and newly created instances of `WandbLogger` will reuse this run. If this is not desired, call `wandb.finish()` before instantiating `WandbLogger`.\n",
      "\n",
      "  | Name      | Type             | Params\n",
      "-----------------------------------------------\n",
      "0 | model     | EfficientNet     | 4.0 M \n",
      "1 | criterion | CrossEntropyLoss | 0     \n",
      "-----------------------------------------------\n",
      "4.0 M     Trainable params\n",
      "0         Non-trainable params\n",
      "4.0 M     Total params\n",
      "16.051    Total estimated model params size (MB)\n"
     ]
    },
    {
     "data": {
      "application/vnd.jupyter.widget-view+json": {
       "model_id": "a903829f19b94c61a8766f4a6fcaedba",
       "version_major": 2,
       "version_minor": 0
      },
      "text/plain": [
       "Sanity Checking: |          | 0/? [00:00<?, ?it/s]"
      ]
     },
     "metadata": {},
     "output_type": "display_data"
    },
    {
     "name": "stderr",
     "output_type": "stream",
     "text": [
      "/Users/henrismidt/anaconda3/envs/alzheimer/lib/python3.8/site-packages/lightning/pytorch/trainer/connectors/data_connector.py:441: The 'val_dataloader' does not have many workers which may be a bottleneck. Consider increasing the value of the `num_workers` argument` to `num_workers=11` in the `DataLoader` to improve performance.\n",
      "/Users/henrismidt/anaconda3/envs/alzheimer/lib/python3.8/site-packages/lightning/pytorch/trainer/connectors/data_connector.py:441: The 'train_dataloader' does not have many workers which may be a bottleneck. Consider increasing the value of the `num_workers` argument` to `num_workers=11` in the `DataLoader` to improve performance.\n",
      "/Users/henrismidt/anaconda3/envs/alzheimer/lib/python3.8/site-packages/lightning/pytorch/loops/fit_loop.py:298: The number of training batches (21) is smaller than the logging interval Trainer(log_every_n_steps=24). Set a lower value for log_every_n_steps if you want to see logs for the training epoch.\n"
     ]
    },
    {
     "data": {
      "application/vnd.jupyter.widget-view+json": {
       "model_id": "f9117669da12488a9cbace5ce32cd57d",
       "version_major": 2,
       "version_minor": 0
      },
      "text/plain": [
       "Training: |          | 0/? [00:00<?, ?it/s]"
      ]
     },
     "metadata": {},
     "output_type": "display_data"
    }
   ],
   "source": [
    "import torch\n",
    "from torchvision import transforms\n",
    "import lightning as L\n",
    "from lightning.pytorch.callbacks import ModelCheckpoint\n",
    "from lightning.pytorch.loggers import WandbLogger\n",
    "from torch.utils.data import DataLoader\n",
    "from transformers import MobileViTImageProcessor\n",
    "import wandb\n",
    "\n",
    "from dataset import MRIImageDataModule, MRIDataset\n",
    "from models import MobileViTLightning, EfficientNetBaseline\n",
    "from utils import get_best_device, LoginCredentials\n",
    "\n",
    "from datetime import datetime\n",
    "import lightning.pytorch as pl\n",
    "import torch\n",
    "import numpy as np\n",
    "import random\n",
    "from sklearn.metrics import f1_score\n",
    "\n",
    "wandb.finish() # Make sure previous sessions are finished\n",
    "\n",
    "authenticator = LoginCredentials()\n",
    "wandb.login(key=authenticator.wandb_key)\n",
    "\n",
    "def set_reproducibility(seed=42):\n",
    "    # Set Python random seed\n",
    "    random.seed(seed)\n",
    "    \n",
    "    # Set Numpy seed\n",
    "    np.random.seed(seed)\n",
    "    \n",
    "    # Set PyTorch seed\n",
    "    torch.manual_seed(seed)\n",
    "    \n",
    "    # If using CUDA:\n",
    "    if torch.cuda.is_available():\n",
    "        torch.cuda.manual_seed_all(seed)\n",
    "    \n",
    "    # Control sources of nondeterminism\n",
    "    torch.backends.cudnn.deterministic = True\n",
    "    torch.backends.cudnn.benchmark = False\n",
    "    \n",
    "    # PyTorch Lightning utility to seed everything\n",
    "    pl.seed_everything(seed, workers=True)\n",
    "\n",
    "set_reproducibility(42)\n",
    "\n",
    "\n",
    "csv_path = 'Data/metadata_for_preprocessed_files.csv'\n",
    "\n",
    "# Define sweep configuration\n",
    "sweep_config = {\n",
    "    'method': 'grid',\n",
    "    'parameters': {\n",
    "        'model_name': {\n",
    "            'values': ['EfficientNetb0']\n",
    "        },\n",
    "        'slice_number': {\n",
    "            'values': ['65', '86', '56', '95', '62']  # ['65', '86', '56', '95', '62', '35', '59', '74', '80', '134', '41', '104', '101', '116', '68', '89', '107', '92', '71', '77', '113', '23', '98', '110', '131', '128', '125', '122', '119', '20', '83', '53', '50', '47', '44', '38', '32', '29', '26', '137']\n",
    "        }\n",
    "    }\n",
    "}\n",
    "\n",
    "sweep_id = wandb.sweep(sweep=sweep_config, project=\"Alzheimer-Detection\")\n",
    "\n",
    "# Define the training function\n",
    "def train(config=None):\n",
    "    with wandb.init(config=config):\n",
    "        config = wandb.config\n",
    "\n",
    "        if config.model_name == \"MobileVit\":\n",
    "            # Load the preprocessor\n",
    "            model_ckpt = \"apple/mobilevit-x-small\"\n",
    "            processor = MobileViTImageProcessor.from_pretrained(model_ckpt)\n",
    "\n",
    "            def transform(image):\n",
    "                # Use MobileViTImageProcessor for preprocessing\n",
    "                return processor(image, return_tensors=\"pt\")[\"pixel_values\"].squeeze(0)\n",
    "            \n",
    "            model = MobileViTLightning(model_ckpt=model_ckpt, num_labels=4)\n",
    "            \n",
    "        elif config.model_name == 'EfficientNetb0':\n",
    "            transform = None\n",
    "            model = EfficientNetBaseline()\n",
    "\n",
    "        \n",
    "        data_module = MRIImageDataModule(csv_path, slice_number=int(config.slice_number), transform=transform, batch_size=16, num_workers=0)\n",
    "        data_module.setup()\n",
    "        train_loader = data_module.train_dataloader()\n",
    "        val_loader = data_module.val_dataloader()\n",
    "        test_loader = data_module.test_dataloader()\n",
    "\n",
    "        wandb_logger = WandbLogger()\n",
    "\n",
    "        checkpoint_callback = ModelCheckpoint(\n",
    "            dirpath=f'model_checkpoints/{config.model_name}',\n",
    "            filename=f'slice_numer_{config.slice_number}',\n",
    "            monitor='val_loss',\n",
    "            mode='min',\n",
    "            save_top_k=1\n",
    "        )\n",
    "\n",
    "        trainer = L.Trainer(\n",
    "            max_epochs=30,\n",
    "            devices='auto',\n",
    "            accelerator='auto',\n",
    "            logger=wandb_logger,\n",
    "            callbacks=[checkpoint_callback],\n",
    "            log_every_n_steps=24\n",
    "        )\n",
    "\n",
    "        trainer.fit(model=model, train_dataloaders=train_loader, val_dataloaders=val_loader)\n",
    "\n",
    "        # Load best model for testing\n",
    "        # best_model_path = checkpoint_callback.best_model_path\n",
    "        # best_model = MobileViTLightning.load_from_checkpoint(best_model_path, model_ckpt=model_ckpt, num_labels=4)\n",
    "\n",
    "        # # Evaluate on test set\n",
    "        # best_model.eval()\n",
    "        # all_preds = []\n",
    "        # all_labels = []\n",
    "        # for batch in test_loader:\n",
    "        #     inputs, labels = batch\n",
    "        #     outputs = best_model(inputs)\n",
    "        #     preds = torch.argmax(outputs, dim=1)\n",
    "        #     all_preds.extend(preds.cpu().numpy())\n",
    "        #     all_labels.extend(labels.cpu().numpy())\n",
    "\n",
    "        # f1 = f1_score(all_labels, all_preds, average='weighted')\n",
    "        # wandb.log({'test_f1_score': f1})\n",
    "\n",
    "# Run the sweep\n",
    "wandb.agent(sweep_id, function=train)\n"
   ]
  },
  {
   "cell_type": "code",
   "execution_count": null,
   "metadata": {},
   "outputs": [],
   "source": []
  }
 ],
 "metadata": {
  "kernelspec": {
   "display_name": "alzheimer",
   "language": "python",
   "name": "python3"
  },
  "language_info": {
   "codemirror_mode": {
    "name": "ipython",
    "version": 3
   },
   "file_extension": ".py",
   "mimetype": "text/x-python",
   "name": "python",
   "nbconvert_exporter": "python",
   "pygments_lexer": "ipython3",
   "version": "3.8.19"
  }
 },
 "nbformat": 4,
 "nbformat_minor": 2
}
