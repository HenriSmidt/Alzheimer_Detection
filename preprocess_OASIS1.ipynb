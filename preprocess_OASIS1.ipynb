{
 "cells": [
  {
   "cell_type": "code",
   "execution_count": 3,
   "metadata": {},
   "outputs": [
    {
     "name": "stdout",
     "output_type": "stream",
     "text": [
      "                                           file_path     subject_id session_id\n",
      "0  Data/OASIS_Extracted/OAS1_0448_MR1_mpr_n4_anon...  OAS1_0448_MR1  PROCESSED\n",
      "1  Data/OASIS_Extracted/OAS1_0448_MR1_mpr_n4_anon...  OAS1_0448_MR1  PROCESSED\n",
      "2  Data/OASIS_Extracted/OAS1_0448_MR1_mpr_n4_anon...  OAS1_0448_MR1  PROCESSED\n",
      "3  Data/OASIS_Extracted/OAS1_0448_MR1_mpr_n4_anon...  OAS1_0448_MR1  PROCESSED\n",
      "4  Data/OASIS_Extracted/OAS1_0448_MR1_mpr_n4_anon...  OAS1_0448_MR1  PROCESSED\n"
     ]
    }
   ],
   "source": [
    "import nibabel as nib\n",
    "import numpy as np\n",
    "import os\n",
    "import pandas as pd\n",
    "from PIL import Image\n",
    "import xml.etree.ElementTree as ET\n",
    "from skimage.transform import resize\n",
    "from skimage import img_as_ubyte  # Additional import to safely convert to ubyte\n",
    "\n",
    "def convert_img_to_jpegs(input_img_path, output_folder, img_dim=(224, 224)):\n",
    "    # Load the .img file using nibabel\n",
    "    img = nib.load(input_img_path)\n",
    "    data = img.get_fdata()\n",
    "\n",
    "    # Normalize the data to 0-255\n",
    "    data = 255 * (data - np.min(data)) / (np.max(data) - np.min(data))\n",
    "    data = data.astype(np.uint8)\n",
    "\n",
    "    output_paths = []\n",
    "\n",
    "    # Iterate over all slices in the 3rd dimension\n",
    "    for slice_index in range(data.shape[2]):\n",
    "        slice_data = data[:, :, slice_index]\n",
    "        \n",
    "        # Resize image if needed\n",
    "        if slice_data.shape != img_dim:\n",
    "            slice_data = resize(slice_data, img_dim, anti_aliasing=True)\n",
    "            slice_data = img_as_ubyte(slice_data)  # Ensure type is uint8 and avoid overflow\n",
    "        \n",
    "        # Ensure the data is 2D for PIL conversion\n",
    "        if len(slice_data.shape) != 2:\n",
    "            slice_data = slice_data.squeeze()  # Removes any singleton dimensions\n",
    "        \n",
    "        # Convert to PIL image and save as JPEG\n",
    "        img_pil = Image.fromarray(slice_data)\n",
    "        img_filename = f\"{os.path.basename(input_img_path).replace('.img', '')}_slice_{slice_index}.jpeg\"\n",
    "        output_path = os.path.join(output_folder, img_filename)\n",
    "        img_pil.save(output_path, \"JPEG\")\n",
    "        output_paths.append(output_path)\n",
    "\n",
    "    return output_paths\n",
    "\n",
    "\n",
    "def extract_metadata_from_xml(xml_file_path):\n",
    "    \"\"\"Extracts metadata from XML file.\"\"\"\n",
    "    tree = ET.parse(xml_file_path)\n",
    "    root = tree.getroot()\n",
    "    metadata = {}\n",
    "    for child in root:\n",
    "        metadata[child.tag] = child.text\n",
    "    return metadata\n",
    "\n",
    "def process_images(base_dir, output_dir):\n",
    "    # Ensure the output directory exists\n",
    "    if not os.path.exists(output_dir):\n",
    "        os.makedirs(output_dir)\n",
    "    \n",
    "    records = []\n",
    "    # Walk through the directory structure\n",
    "    for root, dirs, files in os.walk(base_dir):\n",
    "        # Find only the .img files in the T88_111 subdirectory\n",
    "        if 'T88_111' in root:\n",
    "            img_files = [f for f in files if f.endswith('.img')]\n",
    "            subject_id = root.split(os.sep)[-4]  # Assuming 'OAS1_xxxx_MRy' is 4 levels up\n",
    "            session_id = root.split(os.sep)[-3]  # Session folder is directly 3 levels up\n",
    "            \n",
    "            # Path to the XML file\n",
    "            xml_path = os.path.join(os.sep.join(root.split(os.sep)[:-2]), f'{session_id}.xml')\n",
    "\n",
    "            # Extract metadata if XML file exists\n",
    "            metadata = {}\n",
    "            if os.path.exists(xml_path):\n",
    "                metadata = extract_metadata_from_xml(xml_path)\n",
    "\n",
    "            # Process each image file found in the T88_111 directory\n",
    "            for img_file in img_files:\n",
    "                img_path = os.path.join(root, img_file)\n",
    "                output_paths = convert_img_to_jpegs(img_path, output_dir)\n",
    "                \n",
    "                # Store metadata and paths for each slice\n",
    "                for output_path in output_paths:\n",
    "                    records.append({\n",
    "                        \"file_path\": output_path,\n",
    "                        \"subject_id\": subject_id,\n",
    "                        \"session_id\": session_id,\n",
    "                        **metadata  # Merge additional metadata from XML\n",
    "                    })\n",
    "\n",
    "    # Create a DataFrame with all records\n",
    "    df = pd.DataFrame(records)\n",
    "    return df\n",
    "\n",
    "# Example usage:\n",
    "base_directory = 'Data/OASIS1'\n",
    "output_directory = 'Data/OASIS_Extracted'\n",
    "df_images = process_images(base_directory, output_directory)\n",
    "print(df_images.head())\n",
    "\n"
   ]
  },
  {
   "cell_type": "code",
   "execution_count": 18,
   "metadata": {},
   "outputs": [
    {
     "name": "stdout",
     "output_type": "stream",
     "text": [
      "                                                file_path     subject_id  \\\n",
      "0       Data/OASIS_Extracted/OAS1_0448_MR1_mpr_n4_anon...  OAS1_0448_MR1   \n",
      "1       Data/OASIS_Extracted/OAS1_0448_MR1_mpr_n4_anon...  OAS1_0448_MR1   \n",
      "2       Data/OASIS_Extracted/OAS1_0448_MR1_mpr_n4_anon...  OAS1_0448_MR1   \n",
      "3       Data/OASIS_Extracted/OAS1_0448_MR1_mpr_n4_anon...  OAS1_0448_MR1   \n",
      "4       Data/OASIS_Extracted/OAS1_0448_MR1_mpr_n4_anon...  OAS1_0448_MR1   \n",
      "...                                                   ...            ...   \n",
      "153467  Data/OASIS_Extracted/OAS1_0087_MR1_mpr_n4_anon...  OAS1_0087_MR1   \n",
      "153468  Data/OASIS_Extracted/OAS1_0087_MR1_mpr_n4_anon...  OAS1_0087_MR1   \n",
      "153469  Data/OASIS_Extracted/OAS1_0087_MR1_mpr_n4_anon...  OAS1_0087_MR1   \n",
      "153470  Data/OASIS_Extracted/OAS1_0087_MR1_mpr_n4_anon...  OAS1_0087_MR1   \n",
      "153471  Data/OASIS_Extracted/OAS1_0087_MR1_mpr_n4_anon...  OAS1_0087_MR1   \n",
      "\n",
      "       session_id  \n",
      "0       PROCESSED  \n",
      "1       PROCESSED  \n",
      "2       PROCESSED  \n",
      "3       PROCESSED  \n",
      "4       PROCESSED  \n",
      "...           ...  \n",
      "153467  PROCESSED  \n",
      "153468  PROCESSED  \n",
      "153469  PROCESSED  \n",
      "153470  PROCESSED  \n",
      "153471  PROCESSED  \n",
      "\n",
      "[153472 rows x 3 columns]\n"
     ]
    }
   ],
   "source": [
    "print(df_images)\n"
   ]
  },
  {
   "cell_type": "code",
   "execution_count": 20,
   "metadata": {},
   "outputs": [
    {
     "name": "stdout",
     "output_type": "stream",
     "text": [
      "Images have been sorted into subfolders.\n"
     ]
    }
   ],
   "source": [
    "import os\n",
    "import shutil\n",
    "\n",
    "# Define the path to the directory containing the images\n",
    "src_directory = 'Data/OASIS_Extracted'\n",
    "\n",
    "# Loop over each file in the directory\n",
    "for filename in os.listdir(src_directory):\n",
    "    if filename.endswith(\".jpeg\"):  # Check if the file is a JPEG image\n",
    "        # Extract the subfolder name from the first 9 characters of the filename\n",
    "        subfolder_name = filename[:9]\n",
    "        \n",
    "        # Create the path to the new subfolder if it doesn't already exist\n",
    "        subfolder_path = os.path.join(src_directory, subfolder_name)\n",
    "        if not os.path.exists(subfolder_path):\n",
    "            os.makedirs(subfolder_path)\n",
    "        \n",
    "        # Move the file to the new subfolder\n",
    "        src_file_path = os.path.join(src_directory, filename)\n",
    "        dst_file_path = os.path.join(subfolder_path, filename)\n",
    "        shutil.move(src_file_path, dst_file_path)\n",
    "\n",
    "print(\"Images have been sorted into subfolders.\")\n"
   ]
  },
  {
   "cell_type": "code",
   "execution_count": 21,
   "metadata": {},
   "outputs": [
    {
     "name": "stdout",
     "output_type": "stream",
     "text": [
      "                                           file_path     subject_id session_id\n",
      "0  Data/OASIS_Extracted/OAS1_0448/OAS1_0448_MR1_m...  OAS1_0448_MR1  PROCESSED\n",
      "1  Data/OASIS_Extracted/OAS1_0448/OAS1_0448_MR1_m...  OAS1_0448_MR1  PROCESSED\n",
      "2  Data/OASIS_Extracted/OAS1_0448/OAS1_0448_MR1_m...  OAS1_0448_MR1  PROCESSED\n",
      "3  Data/OASIS_Extracted/OAS1_0448/OAS1_0448_MR1_m...  OAS1_0448_MR1  PROCESSED\n",
      "4  Data/OASIS_Extracted/OAS1_0448/OAS1_0448_MR1_m...  OAS1_0448_MR1  PROCESSED\n"
     ]
    }
   ],
   "source": [
    "# Function to extract the folder name from the filename and prepend it to the existing path\n",
    "def update_path(path):\n",
    "    # Split the path to get the filename\n",
    "    parts = path.split('/')\n",
    "    # Get the filename which is the last part of the path\n",
    "    filename = parts[-1]\n",
    "    # Extract the first 9 characters of the filename to use as the folder name\n",
    "    folder_name = filename[:9]\n",
    "    # Insert the new folder name into the path just before the filename\n",
    "    new_path = '/'.join(parts[:-1] + [folder_name, filename])\n",
    "    return new_path\n",
    "\n",
    "# Apply the function to update the file paths in the DataFrame\n",
    "df_images['file_path'] = df_images['file_path'].apply(update_path)\n",
    "\n",
    "# Print the updated DataFrame to verify changes\n",
    "print(df_images.head())"
   ]
  },
  {
   "cell_type": "code",
   "execution_count": 5,
   "metadata": {},
   "outputs": [],
   "source": [
    "def parse_txt_metadata(txt_file_path):\n",
    "    \"\"\"Parses metadata from a structured TXT file into a dictionary.\"\"\"\n",
    "    metadata = {}\n",
    "    current_scan = None  # To keep track of which scan's details are being parsed\n",
    "\n",
    "    with open(txt_file_path, 'r') as file:\n",
    "        for line in file:\n",
    "            line = line.strip()\n",
    "            if ':' in line:\n",
    "                key, value = line.split(':', 1)\n",
    "                key = key.strip()\n",
    "                value = value.strip()\n",
    "                if 'SCAN NUMBER' in key:  # Start of a new scan block\n",
    "                    current_scan = value  # Update current scan to this scan number\n",
    "                    metadata[current_scan] = {}\n",
    "                elif current_scan:  # If currently parsing a scan block\n",
    "                    metadata[current_scan][key] = value\n",
    "                else:\n",
    "                    metadata[key] = value\n",
    "            elif line.startswith('mpr-'):  # This handles lines like 'mpr-1      MPRAGE'\n",
    "                scan_number, scan_type = line.split()\n",
    "                metadata[scan_number] = scan_type\n",
    "\n",
    "    return metadata\n"
   ]
  },
  {
   "cell_type": "code",
   "execution_count": 15,
   "metadata": {},
   "outputs": [],
   "source": [
    "import pandas as pd\n",
    "\n",
    "def flatten_metadata(metadata):\n",
    "    \"\"\"Flatten a metadata dictionary into a DataFrame.\"\"\"\n",
    "    # Base metadata excluding mpr details\n",
    "    base_metadata = {k: v for k, v in metadata.items() if not k.startswith('mpr-')}\n",
    "    \n",
    "    rows = []\n",
    "    # Iterate over each mpr entry\n",
    "    for mpr_key, mpr_data in metadata.items():\n",
    "        if mpr_key.startswith('mpr-'):\n",
    "            # Combine base metadata with mpr-specific data\n",
    "            full_data = {**base_metadata, **mpr_data}\n",
    "            full_data['mpr'] = mpr_key  # Keep track of which mpr this is\n",
    "            rows.append(full_data)\n",
    "    \n",
    "    return pd.DataFrame(rows)\n",
    "\n",
    "def collect_and_concatenate_metadata(base_dir):\n",
    "    combined_df = pd.DataFrame()\n",
    "    # Iterate through each file and flatten the metadata\n",
    "    for root, dirs, files in os.walk(base_dir):\n",
    "        for file in files:\n",
    "            if file.endswith('.txt') and 'other_txt' not in file:\n",
    "                txt_file_path = os.path.join(root, file)\n",
    "                metadata = parse_txt_metadata(txt_file_path)\n",
    "                flattened_df = flatten_metadata(metadata)\n",
    "                # Append the flattened data to the combined DataFrame\n",
    "                combined_df = pd.concat([combined_df, flattened_df], ignore_index=True)\n",
    "                \n",
    "    return combined_df\n"
   ]
  },
  {
   "cell_type": "code",
   "execution_count": 16,
   "metadata": {},
   "outputs": [
    {
     "name": "stdout",
     "output_type": "stream",
     "text": [
      "      SESSION ID AGE     M/F   HAND EDUC SES CDR MMSE     eTIV   ASF   nWBV  \\\n",
      "0  OAS1_0448_MR1  22  Female  Right                    1524.00  1.15  0.858   \n",
      "1  OAS1_0448_MR1  22  Female  Right                    1524.00  1.15  0.858   \n",
      "2  OAS1_0448_MR1  22  Female  Right                    1524.00  1.15  0.858   \n",
      "3  OAS1_0448_MR1  22  Female  Right                    1524.00  1.15  0.858   \n",
      "4  OAS1_0449_MR1  71  Female  Right    3   4   0   29  1264.00  1.39  0.818   \n",
      "\n",
      "     TYPE      Vox res (mm) Rect. Fov Orientation TR (ms) TE (ms) TI (ms)  \\\n",
      "0  MPRAGE  1.0 x 1.0 x 1.25   256/256         Sag     9.7     4.0    20.0   \n",
      "1  MPRAGE  1.0 x 1.0 x 1.25   256/256         Sag     9.7     4.0    20.0   \n",
      "2  MPRAGE  1.0 x 1.0 x 1.25   256/256         Sag     9.7     4.0    20.0   \n",
      "3  MPRAGE  1.0 x 1.0 x 1.25   256/256         Sag     9.7     4.0    20.0   \n",
      "4  MPRAGE  1.0 x 1.0 x 1.25   256/256         Sag     9.7     4.0    20.0   \n",
      "\n",
      "  Flip    mpr  \n",
      "0   10  mpr-1  \n",
      "1   10  mpr-2  \n",
      "2   10  mpr-3  \n",
      "3   10  mpr-4  \n",
      "4   10  mpr-1  \n"
     ]
    }
   ],
   "source": [
    "base_directory = 'Data/OASIS1'\n",
    "metadata_df = collect_and_concatenate_metadata(base_directory)\n",
    "print(metadata_df.head())"
   ]
  },
  {
   "cell_type": "code",
   "execution_count": 17,
   "metadata": {},
   "outputs": [
    {
     "name": "stdout",
     "output_type": "stream",
     "text": [
      "         SESSION ID AGE     M/F   HAND EDUC SES CDR MMSE     eTIV   ASF  \\\n",
      "0     OAS1_0448_MR1  22  Female  Right                    1524.00  1.15   \n",
      "1     OAS1_0448_MR1  22  Female  Right                    1524.00  1.15   \n",
      "2     OAS1_0448_MR1  22  Female  Right                    1524.00  1.15   \n",
      "3     OAS1_0448_MR1  22  Female  Right                    1524.00  1.15   \n",
      "4     OAS1_0449_MR1  71  Female  Right    3   4   0   29  1264.00  1.39   \n",
      "...             ...  ..     ...    ...  ...  ..  ..  ...      ...   ...   \n",
      "1683  OAS1_0086_MR1  47  Female  Right    4   1   0   30  1311.00  1.34   \n",
      "1684  OAS1_0087_MR1  21  Female  Right                    1507.00  1.16   \n",
      "1685  OAS1_0087_MR1  21  Female  Right                    1507.00  1.16   \n",
      "1686  OAS1_0087_MR1  21  Female  Right                    1507.00  1.16   \n",
      "1687  OAS1_0087_MR1  21  Female  Right                    1507.00  1.16   \n",
      "\n",
      "       nWBV    TYPE      Vox res (mm) Rect. Fov Orientation TR (ms) TE (ms)  \\\n",
      "0     0.858  MPRAGE  1.0 x 1.0 x 1.25   256/256         Sag     9.7     4.0   \n",
      "1     0.858  MPRAGE  1.0 x 1.0 x 1.25   256/256         Sag     9.7     4.0   \n",
      "2     0.858  MPRAGE  1.0 x 1.0 x 1.25   256/256         Sag     9.7     4.0   \n",
      "3     0.858  MPRAGE  1.0 x 1.0 x 1.25   256/256         Sag     9.7     4.0   \n",
      "4     0.818  MPRAGE  1.0 x 1.0 x 1.25   256/256         Sag     9.7     4.0   \n",
      "...     ...     ...               ...       ...         ...     ...     ...   \n",
      "1683  0.835  MPRAGE  1.0 x 1.0 x 1.25   256/256         Sag     9.7     4.0   \n",
      "1684  0.845  MPRAGE  1.0 x 1.0 x 1.25   256/256         Sag     9.7     4.0   \n",
      "1685  0.845  MPRAGE  1.0 x 1.0 x 1.25   256/256         Sag     9.7     4.0   \n",
      "1686  0.845  MPRAGE  1.0 x 1.0 x 1.25   256/256         Sag     9.7     4.0   \n",
      "1687  0.845  MPRAGE  1.0 x 1.0 x 1.25   256/256         Sag     9.7     4.0   \n",
      "\n",
      "     TI (ms) Flip    mpr  \n",
      "0       20.0   10  mpr-1  \n",
      "1       20.0   10  mpr-2  \n",
      "2       20.0   10  mpr-3  \n",
      "3       20.0   10  mpr-4  \n",
      "4       20.0   10  mpr-1  \n",
      "...      ...  ...    ...  \n",
      "1683    20.0   10  mpr-4  \n",
      "1684    20.0   10  mpr-1  \n",
      "1685    20.0   10  mpr-2  \n",
      "1686    20.0   10  mpr-3  \n",
      "1687    20.0   10  mpr-4  \n",
      "\n",
      "[1688 rows x 20 columns]\n"
     ]
    }
   ],
   "source": [
    "print(metadata_df)"
   ]
  },
  {
   "cell_type": "code",
   "execution_count": 6,
   "metadata": {},
   "outputs": [
    {
     "name": "stdout",
     "output_type": "stream",
     "text": [
      "{'SESSION ID': 'OAS1_0043_MR1', 'AGE': '21', 'M/F': 'Male', 'HAND': 'Right', 'EDUC': '', 'SES': '', 'CDR': '', 'MMSE': '', 'eTIV': '1511.00', 'ASF': '1.16', 'nWBV': '0.846', 'mpr-1': {'TYPE': 'MPRAGE', 'Vox res (mm)': '1.0 x 1.0 x 1.25', 'Rect. Fov': '256/256', 'Orientation': 'Sag', 'TR (ms)': '9.7', 'TE (ms)': '4.0', 'TI (ms)': '20.0', 'Flip': '10'}, 'mpr-2': {'TYPE': 'MPRAGE', 'Vox res (mm)': '1.0 x 1.0 x 1.25', 'Rect. Fov': '256/256', 'Orientation': 'Sag', 'TR (ms)': '9.7', 'TE (ms)': '4.0', 'TI (ms)': '20.0', 'Flip': '10'}, 'mpr-3': {'TYPE': 'MPRAGE', 'Vox res (mm)': '1.0 x 1.0 x 1.25', 'Rect. Fov': '256/256', 'Orientation': 'Sag', 'TR (ms)': '9.7', 'TE (ms)': '4.0', 'TI (ms)': '20.0', 'Flip': '10'}, 'mpr-4': {'TYPE': 'MPRAGE', 'Vox res (mm)': '1.0 x 1.0 x 1.25', 'Rect. Fov': '256/256', 'Orientation': 'Sag', 'TR (ms)': '9.7', 'TE (ms)': '4.0', 'TI (ms)': '20.0', 'Flip': '10'}}\n"
     ]
    }
   ],
   "source": [
    "print(parse_txt_metadata(\"/Users/henrismidt/Documents/Informatik/Master/Alzheimer_Detection/Data/OASIS1/disc2/OAS1_0043_MR1/OAS1_0043_MR1.txt\"))"
   ]
  },
  {
   "cell_type": "code",
   "execution_count": null,
   "metadata": {},
   "outputs": [],
   "source": []
  }
 ],
 "metadata": {
  "kernelspec": {
   "display_name": "alzheimer",
   "language": "python",
   "name": "python3"
  },
  "language_info": {
   "codemirror_mode": {
    "name": "ipython",
    "version": 3
   },
   "file_extension": ".py",
   "mimetype": "text/x-python",
   "name": "python",
   "nbconvert_exporter": "python",
   "pygments_lexer": "ipython3",
   "version": "3.8.19"
  }
 },
 "nbformat": 4,
 "nbformat_minor": 2
}
