{
 "cells": [
  {
   "cell_type": "code",
   "execution_count": 4,
   "metadata": {},
   "outputs": [
    {
     "name": "stdout",
     "output_type": "stream",
     "text": [
      "Invalid filename found: .DS_Store in directory: Data\n",
      "Some filenames do not follow the correct structure.\n"
     ]
    }
   ],
   "source": [
    "import os\n",
    "import re\n",
    "\n",
    "data_folder = \"Data\"\n",
    "\n",
    "# Define the regex pattern for matching the filenames\n",
    "pattern = re.compile(r\"^OAS1_(\\d{4})_MR(\\d+)_mpr-(\\d{1})_(\\d{3})\\.jpg$\")\n",
    "\n",
    "# Function to check if a filename matches the pattern\n",
    "\n",
    "\n",
    "def is_valid_filename(filename):\n",
    "    return bool(pattern.match(filename))\n",
    "\n",
    "\n",
    "# Function to iterate through all files and folders and check filenames\n",
    "\n",
    "\n",
    "def check_file_structure(root_folder):\n",
    "    for subdir, _, files in os.walk(root_folder):\n",
    "        for file in files:\n",
    "            if not is_valid_filename(file):\n",
    "                print(f\"Invalid filename found: {file} in directory: {subdir}\")\n",
    "                return False\n",
    "    return True\n",
    "\n",
    "\n",
    "# Check the file structure\n",
    "if check_file_structure(data_folder):\n",
    "    print(\"All filenames follow the correct structure.\")\n",
    "else:\n",
    "    print(\"Some filenames do not follow the correct structure.\")"
   ]
  },
  {
   "cell_type": "code",
   "execution_count": 5,
   "metadata": {},
   "outputs": [
    {
     "name": "stdout",
     "output_type": "stream",
     "text": [
      "Different image formats:\n",
      "jpg\n",
      "\n",
      "Different image sizes:\n",
      "(496, 248)\n"
     ]
    },
    {
     "data": {
      "text/plain": [
       "(True, True)"
      ]
     },
     "execution_count": 5,
     "metadata": {},
     "output_type": "execute_result"
    }
   ],
   "source": [
    "import os\n",
    "from collections import defaultdict\n",
    "from PIL import Image\n",
    "\n",
    "# Dictionary to store image paths\n",
    "image_paths = {\n",
    "    \"Non Demented\": [],\n",
    "    \"Very mild Dementia\": [],\n",
    "    \"Mild Dementia\": [],\n",
    "    \"Moderate Dementia\": [],\n",
    "}\n",
    "\n",
    "# Traverse through the folder structure\n",
    "for root, dirs, files in os.walk(data_folder):\n",
    "    for file in files:\n",
    "        if file.endswith(\".jpg\"):\n",
    "            # Extract dementia level from folder name\n",
    "            dementia_level = os.path.basename(root)\n",
    "            # Extract subject ID from file name\n",
    "            subject_id = file.split(\"_\")[0]\n",
    "            # Extract image slice number\n",
    "            slice_number = int(file.split(\"_\")[-1].split(\".\")[0])\n",
    "            # Add image path to the corresponding dementia level\n",
    "            image_paths[dementia_level].append(os.path.join(root, file))\n",
    "\n",
    "\n",
    "def check_image_formats(image_paths):\n",
    "    \"\"\"Check if all images have the same format and size.\"\"\"\n",
    "    formats = set()\n",
    "    sizes = set()\n",
    "    for paths in image_paths.values():\n",
    "        for path in paths:\n",
    "            # Get image format\n",
    "            format_info = path.split(\".\")[-1]\n",
    "            formats.add(format_info)\n",
    "\n",
    "            # Get image size\n",
    "            with Image.open(path) as img:\n",
    "                img_size = img.size\n",
    "                sizes.add(img_size)\n",
    "\n",
    "    # Print different formats\n",
    "    print(\"Different image formats:\")\n",
    "    for fmt in formats:\n",
    "        print(fmt)\n",
    "\n",
    "    # Print different sizes\n",
    "    print(\"\\nDifferent image sizes:\")\n",
    "    for size in sizes:\n",
    "        print(size)\n",
    "\n",
    "    return len(formats) == 1, len(sizes) == 1\n",
    "\n",
    "\n",
    "check_image_formats(image_paths)"
   ]
  },
  {
   "cell_type": "code",
   "execution_count": 6,
   "metadata": {},
   "outputs": [
    {
     "name": "stdout",
     "output_type": "stream",
     "text": [
      "              class subject_ID session mpr  slice  \\\n",
      "916   Mild Dementia       0028       1   1    100   \n",
      "1140  Mild Dementia       0028       1   1    101   \n",
      "836   Mild Dementia       0028       1   1    102   \n",
      "630   Mild Dementia       0028       1   1    103   \n",
      "278   Mild Dementia       0028       1   1    104   \n",
      "\n",
      "                                                path  \n",
      "916   Data/Mild Dementia/OAS1_0028_MR1_mpr-1_100.jpg  \n",
      "1140  Data/Mild Dementia/OAS1_0028_MR1_mpr-1_101.jpg  \n",
      "836   Data/Mild Dementia/OAS1_0028_MR1_mpr-1_102.jpg  \n",
      "630   Data/Mild Dementia/OAS1_0028_MR1_mpr-1_103.jpg  \n",
      "278   Data/Mild Dementia/OAS1_0028_MR1_mpr-1_104.jpg  \n"
     ]
    }
   ],
   "source": [
    "import pandas as pd\n",
    "\n",
    "# Function to extract information from filename\n",
    "\n",
    "\n",
    "def extract_info_from_filename(filename):\n",
    "    match = pattern.match(filename)\n",
    "    subject_id = match.group(1)\n",
    "    session = match.group(2)\n",
    "    mpr = match.group(3)\n",
    "    slice_number = int(match.group(4))\n",
    "    return subject_id, session, mpr, slice_number\n",
    "\n",
    "\n",
    "# Function to create DataFrame\n",
    "\n",
    "\n",
    "def create_dataframe(root_folder):\n",
    "    data = []\n",
    "    for subdir, _, files in os.walk(root_folder):\n",
    "        class_name = os.path.basename(subdir)\n",
    "        for file in files:\n",
    "            if is_valid_filename(file):\n",
    "                subject_id, session, mpr, slice_number = extract_info_from_filename(\n",
    "                    file\n",
    "                )\n",
    "                path = os.path.join(subdir, file)\n",
    "                data.append((class_name, subject_id, session, mpr, slice_number, path))\n",
    "    df = pd.DataFrame(\n",
    "        data, columns=[\"class\", \"subject_ID\", \"session\", \"mpr\", \"slice\", \"path\"]\n",
    "    )\n",
    "    return df\n",
    "\n",
    "\n",
    "# Create the DataFrame\n",
    "df = create_dataframe(data_folder)\n",
    "df.sort_values(by=[\"class\", \"subject_ID\", \"session\", \"mpr\", \"slice\"], inplace=True)\n",
    "\n",
    "\n",
    "# Display the DataFrame\n",
    "print(df.head())"
   ]
  },
  {
   "cell_type": "code",
   "execution_count": 8,
   "metadata": {},
   "outputs": [],
   "source": [
    "# Grouping by 'subject_ID', 'session', and 'mpr', and aggregating 'path' as a list\n",
    "grouped_df = (\n",
    "    df.groupby([\"class\", \"subject_ID\", \"session\", \"mpr\"])\n",
    "    .agg({\"path\": list})\n",
    "    .reset_index()\n",
    ")\n",
    "\n",
    "# Sorting the paths within each group based on the slice value\n",
    "grouped_df[\"path\"] = grouped_df[\"path\"].apply(\n",
    "    lambda paths: sorted(paths, key=lambda x: int(x.split(\"_\")[-1].split(\".\")[0]))\n",
    ")\n",
    "\n",
    "# Renaming the 'path' column to 'paths'\n",
    "grouped_df = grouped_df.rename(columns={\"path\": \"paths\"})\n",
    "\n",
    "grouped_df\n",
    "\n",
    "# Save the grouped DataFrame to a JSON file\n",
    "grouped_df.to_json(\"Data/alzheimer_data.json\", orient=\"records\")"
   ]
  },
  {
   "cell_type": "code",
   "execution_count": null,
   "metadata": {},
   "outputs": [],
   "source": []
  }
 ],
 "metadata": {
  "kernelspec": {
   "display_name": "alzheimer",
   "language": "python",
   "name": "python3"
  },
  "language_info": {
   "codemirror_mode": {
    "name": "ipython",
    "version": 3
   },
   "file_extension": ".py",
   "mimetype": "text/x-python",
   "name": "python",
   "nbconvert_exporter": "python",
   "pygments_lexer": "ipython3",
   "version": "3.8.19"
  }
 },
 "nbformat": 4,
 "nbformat_minor": 2
}
