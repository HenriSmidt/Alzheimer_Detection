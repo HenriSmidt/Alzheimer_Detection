{
 "cells": [
  {
   "cell_type": "code",
   "execution_count": 1,
   "metadata": {},
   "outputs": [
    {
     "name": "stdout",
     "output_type": "stream",
     "text": [
      "Non Demented: 67222 images\n",
      "Very mild Dementia: 13725 images\n",
      "Mild Dementia: 5002 images\n",
      "Moderate Dementia: 488 images\n"
     ]
    }
   ],
   "source": [
    "import os\n",
    "\n",
    "data_folder = \"Data\"\n",
    "\n",
    "# Dictionary to store image paths\n",
    "image_paths = {\n",
    "    \"Non Demented\": [],\n",
    "    \"Very mild Dementia\": [],\n",
    "    \"Mild Dementia\": [],\n",
    "    \"Moderate Dementia\": []\n",
    "}\n",
    "\n",
    "# Traverse through the folder structure\n",
    "for root, dirs, files in os.walk(data_folder):\n",
    "    for file in files:\n",
    "        if file.endswith(\".jpg\"):\n",
    "            # Extract dementia level from folder name\n",
    "            dementia_level = os.path.basename(root)\n",
    "            # Extract subject ID from file name\n",
    "            subject_id = file.split(\"_\")[0]\n",
    "            # Extract image slice number\n",
    "            slice_number = int(file.split(\"_\")[-1].split(\".\")[0])\n",
    "            # Add image path to the corresponding dementia level\n",
    "            image_paths[dementia_level].append(os.path.join(root, file))\n",
    "\n",
    "# Print the number of images for each dementia level\n",
    "for level, paths in image_paths.items():\n",
    "    print(f\"{level}: {len(paths)} images\")\n",
    "\n",
    "# Example of accessing image paths for a specific dementia level\n",
    "# For example, to access image paths for Non Demented:\n",
    "# non_demented_image_paths = image_paths[\"Non Demented\"]\n"
   ]
  },
  {
   "cell_type": "code",
   "execution_count": 2,
   "metadata": {},
   "outputs": [
    {
     "name": "stdout",
     "output_type": "stream",
     "text": [
      "Number of images per dementia category:\n",
      "Non Demented: 67222\n",
      "Very mild Dementia: 13725\n",
      "Mild Dementia: 5002\n",
      "Moderate Dementia: 488\n",
      "\n",
      "Number of scans per patient:\n",
      "Patient ID: OAS1, Number of scans: 86437\n",
      "\n",
      "Not all images have the same format.\n",
      "\n",
      "Average scans per patient: 86437.00\n",
      "Total number of images: 86437\n",
      "Average number of images per patient: 86437.00\n"
     ]
    }
   ],
   "source": [
    "import os\n",
    "from collections import defaultdict\n",
    "\n",
    "def count_images_per_category(image_paths):\n",
    "    \"\"\"Count the number of images per dementia category.\"\"\"\n",
    "    category_counts = {}\n",
    "    for category, paths in image_paths.items():\n",
    "        category_counts[category] = len(paths)\n",
    "    return category_counts\n",
    "\n",
    "def count_scans_per_patient(image_paths):\n",
    "    \"\"\"Count the number of scans per patient.\"\"\"\n",
    "    scans_per_patient = defaultdict(int)\n",
    "    for paths in image_paths.values():\n",
    "        for path in paths:\n",
    "            subject_id = os.path.basename(path).split(\"_\")[0]\n",
    "            scans_per_patient[subject_id] += 1\n",
    "    return scans_per_patient\n",
    "\n",
    "def check_image_formats(image_paths):\n",
    "    \"\"\"Check if all images have the same format.\"\"\"\n",
    "    formats = set()\n",
    "    for paths in image_paths.values():\n",
    "        for path in paths:\n",
    "            format_info = path.split(\"_\")[3]\n",
    "            formats.add(format_info)\n",
    "    return len(formats) == 1\n",
    "\n",
    "def analyze_dataset(image_paths):\n",
    "    \"\"\"Analyze the dataset and provide insights.\"\"\"\n",
    "    # Count images per category\n",
    "    category_counts = count_images_per_category(image_paths)\n",
    "    print(\"Number of images per dementia category:\")\n",
    "    for category, count in category_counts.items():\n",
    "        print(f\"{category}: {count}\")\n",
    "\n",
    "    # Count scans per patient\n",
    "    scans_per_patient = count_scans_per_patient(image_paths)\n",
    "    print(\"\\nNumber of scans per patient:\")\n",
    "    for patient_id, num_scans in scans_per_patient.items():\n",
    "        print(f\"Patient ID: {patient_id}, Number of scans: {num_scans}\")\n",
    "\n",
    "    # Check if all images have the same format\n",
    "    same_format = check_image_formats(image_paths)\n",
    "    if same_format:\n",
    "        print(\"\\nAll images have the same format.\")\n",
    "    else:\n",
    "        print(\"\\nNot all images have the same format.\")\n",
    "\n",
    "    # Other potentially interesting insights\n",
    "    num_patients = len(scans_per_patient)\n",
    "    total_images = sum(category_counts.values())\n",
    "    average_scans_per_patient = total_images / num_patients\n",
    "    print(f\"\\nAverage scans per patient: {average_scans_per_patient:.2f}\")\n",
    "    print(f\"Total number of images: {total_images}\")\n",
    "    print(f\"Average number of images per patient: {total_images / num_patients:.2f}\")\n",
    "\n",
    "# Assuming image_paths dictionary has been loaded previously\n",
    "# image_paths = { \"Non Demented\": [...], \"Very mild Dementia\": [...], ... }\n",
    "\n",
    "# Analyze the dataset\n",
    "analyze_dataset(image_paths)\n"
   ]
  },
  {
   "cell_type": "code",
   "execution_count": null,
   "metadata": {},
   "outputs": [],
   "source": []
  }
 ],
 "metadata": {
  "kernelspec": {
   "display_name": "alzheimer",
   "language": "python",
   "name": "python3"
  },
  "language_info": {
   "codemirror_mode": {
    "name": "ipython",
    "version": 3
   },
   "file_extension": ".py",
   "mimetype": "text/x-python",
   "name": "python",
   "nbconvert_exporter": "python",
   "pygments_lexer": "ipython3",
   "version": "3.8.19"
  }
 },
 "nbformat": 4,
 "nbformat_minor": 2
}
